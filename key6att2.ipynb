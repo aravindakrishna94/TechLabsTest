{
  "nbformat": 4,
  "nbformat_minor": 0,
  "metadata": {
    "colab": {
      "name": "key6att2.ipynb",
      "provenance": [],
      "collapsed_sections": [],
      "authorship_tag": "ABX9TyPWTFRQLaTTVo5zM/5+tUFh",
      "include_colab_link": true
    },
    "kernelspec": {
      "name": "python3",
      "display_name": "Python 3"
    },
    "language_info": {
      "name": "python"
    }
  },
  "cells": [
    {
      "cell_type": "markdown",
      "metadata": {
        "id": "view-in-github",
        "colab_type": "text"
      },
      "source": [
        "<a href=\"https://colab.research.google.com/github/aravindakrishna94/TechLabsTest/blob/main/key6att2.ipynb\" target=\"_parent\"><img src=\"https://colab.research.google.com/assets/colab-badge.svg\" alt=\"Open In Colab\"/></a>"
      ]
    },
    {
      "cell_type": "code",
      "metadata": {
        "colab": {
          "base_uri": "https://localhost:8080/"
        },
        "id": "fqzJHplvooYh",
        "outputId": "80dc7680-a1f2-4774-fff7-e550e67e5765"
      },
      "source": [
        "!pip install PyDub\n",
        "from pydub import AudioSegment "
      ],
      "execution_count": null,
      "outputs": [
        {
          "output_type": "stream",
          "text": [
            "Requirement already satisfied: PyDub in /usr/local/lib/python3.7/dist-packages (0.25.1)\n"
          ],
          "name": "stdout"
        }
      ]
    },
    {
      "cell_type": "code",
      "metadata": {
        "id": "f3M04qTTpzAf"
      },
      "source": [
        "staudio = AudioSegment.from_file('output.wav')\n",
        "channels = staudio.split_to_mono()\n",
        "audch_1 = channels[0]\n",
        "audch_2 = channels[1]\n"
      ],
      "execution_count": null,
      "outputs": []
    },
    {
      "cell_type": "code",
      "metadata": {
        "colab": {
          "base_uri": "https://localhost:8080/"
        },
        "id": "XT-ZgqjLqZUC",
        "outputId": "8f568ab2-b429-487a-ea60-4f2ced6a7d79"
      },
      "source": [
        "print(type(audch_1))"
      ],
      "execution_count": null,
      "outputs": [
        {
          "output_type": "stream",
          "text": [
            "<class 'pydub.audio_segment.AudioSegment'>\n"
          ],
          "name": "stdout"
        }
      ]
    },
    {
      "cell_type": "code",
      "metadata": {
        "colab": {
          "base_uri": "https://localhost:8080/"
        },
        "id": "T8Ctynakqkbh",
        "outputId": "869ee9b4-365f-4204-9306-b83ad1806840"
      },
      "source": [
        "audch_1.export('channel1.wav', format='wav')\n"
      ],
      "execution_count": null,
      "outputs": [
        {
          "output_type": "execute_result",
          "data": {
            "text/plain": [
              "<_io.BufferedRandom name='channel1.wav'>"
            ]
          },
          "metadata": {
            "tags": []
          },
          "execution_count": 36
        }
      ]
    },
    {
      "cell_type": "code",
      "metadata": {
        "colab": {
          "base_uri": "https://localhost:8080/"
        },
        "id": "ZwT1mpxkq_CV",
        "outputId": "9979815b-cec9-4f84-b07d-e893c02ba2d3"
      },
      "source": [
        "audch_2.export('channel2.wav', format='wav')"
      ],
      "execution_count": null,
      "outputs": [
        {
          "output_type": "execute_result",
          "data": {
            "text/plain": [
              "<_io.BufferedRandom name='channel2.wav'>"
            ]
          },
          "metadata": {
            "tags": []
          },
          "execution_count": 37
        }
      ]
    },
    {
      "cell_type": "code",
      "metadata": {
        "colab": {
          "base_uri": "https://localhost:8080/"
        },
        "id": "fNGqq4YOrC9h",
        "outputId": "d0ce9d3d-106a-46ac-c8a8-08ab4ff66cc3"
      },
      "source": [
        "!pip install wavio\n",
        "import wavio as av\n",
        "import numpy as np"
      ],
      "execution_count": null,
      "outputs": [
        {
          "output_type": "stream",
          "text": [
            "Requirement already satisfied: wavio in /usr/local/lib/python3.7/dist-packages (0.0.4)\n",
            "Requirement already satisfied: numpy>=1.6.0 in /usr/local/lib/python3.7/dist-packages (from wavio) (1.19.5)\n"
          ],
          "name": "stdout"
        }
      ]
    },
    {
      "cell_type": "code",
      "metadata": {
        "id": "ngSlCIMSrNHK"
      },
      "source": [
        "aud1=av.read('channel1.wav')\n",
        "aud2=av.read('channel2.wav')\n",
        "npaud1=np.array(aud1)\n",
        "npaud2=np.array(aud2)\n"
      ],
      "execution_count": null,
      "outputs": []
    },
    {
      "cell_type": "code",
      "metadata": {
        "id": "Ko3W07JGrvz6",
        "colab": {
          "base_uri": "https://localhost:8080/"
        },
        "outputId": "4f52bba2-eed9-4240-b377-0b68db731a20"
      },
      "source": [
        "print(type(npaud1))\n",
        "print(type(npaud2))"
      ],
      "execution_count": null,
      "outputs": [
        {
          "output_type": "stream",
          "text": [
            "<class 'numpy.ndarray'>\n",
            "<class 'numpy.ndarray'>\n"
          ],
          "name": "stdout"
        }
      ]
    },
    {
      "cell_type": "code",
      "metadata": {
        "id": "RmkkVqT1r3dI",
        "colab": {
          "base_uri": "https://localhost:8080/"
        },
        "outputId": "572dc165-211a-4d84-9f71-e4858b4924c7"
      },
      "source": [
        "print(npaud1)"
      ],
      "execution_count": null,
      "outputs": [
        {
          "output_type": "stream",
          "text": [
            "Wav(data.shape=(2001920, 1), data.dtype=int16, rate=44100, sampwidth=2)\n"
          ],
          "name": "stdout"
        }
      ]
    },
    {
      "cell_type": "code",
      "metadata": {
        "id": "oWmzlILQuVyg",
        "colab": {
          "base_uri": "https://localhost:8080/"
        },
        "outputId": "e6064d15-dad6-4629-892f-7c24202892ca"
      },
      "source": [
        "import scipy.io\n",
        "from scipy.io import wavfile\n",
        "\n",
        "scaud1, data1 = wavfile.read('channel1.wav')\n",
        "print(type(data1))\n",
        "scaud2, data2 = wavfile.read('channel2.wav')\n",
        "print(type(data2))"
      ],
      "execution_count": null,
      "outputs": [
        {
          "output_type": "stream",
          "text": [
            "<class 'numpy.ndarray'>\n",
            "<class 'numpy.ndarray'>\n"
          ],
          "name": "stdout"
        }
      ]
    },
    {
      "cell_type": "code",
      "metadata": {
        "id": "TwlNzjQv7pgP"
      },
      "source": [
        "diffaud = np.subtract(data1, data2)\n",
        "wavfile.write('diffaudio.wav', 44100, diffaud)"
      ],
      "execution_count": null,
      "outputs": []
    }
  ]
}